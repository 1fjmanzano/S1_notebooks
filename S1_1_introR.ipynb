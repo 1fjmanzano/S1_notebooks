{
 "cells": [
  {
   "cell_type": "markdown",
   "metadata": {},
   "source": [
    "# Introducción a R\n",
    "A pesar de la potencia de las hojas de cálculo como Excel®, hay ocasiones en las que ciertas tareas resultan demasiado arduas. A partir de ahora, vamos a utilizar un recurso más potente para almacenar y trabajar con los datos: **el lenguaje R**.\n",
    "\n",
    "R es un lenguaje funcional e interpretado que, de manera interactiva, permite operar sobre listas, vectores y matrices de datos de manera extremadamente sencilla. Gran parte de su versatilidad estriba en la inmediatez para aplicar cualquier operación sobre todos los elementos de una de esas estructuras (o partes de ellas) en un solo paso, así como en la extensa biblioteca de paquetes  disponibles (en *The Comprehensive R Archive Network* [CRAN](https://cran.r-project.org)) para resolver prácticamente cualquier problema que se nos ocurra (obviamente siempre circunscrito al campo del análisis de datos)."
   ]
  },
  {
   "cell_type": "markdown",
   "metadata": {},
   "source": [
    "## Cargar datos\n",
    "Lo primero que debemos tener son datos para poder trabajar con ellos. Generalmente, tenemos los datos almacenados en hojas de cálculo. En R, se pueden importar los datos de hojas de cálculo u otros formatos de archivos de datos (como veremos más adelante) y también se pueden \"teclear\".\n",
    "\n",
    "Vamos a verlo con un sencillo ejemplo:  \n",
    "\n",
    "*En un estudio médico con 50 pacientes se consideró la variable \"número de piezas dentales perdidas\" obteniéndose los siguentes datos:*\n",
    "\n",
    "1, 3, 0, 3, 2, 0, 2, 0, 0, 2, 0, 1, 0, 0, 1, 0, 1, 4, 0, 0, 1, 4, 0, 1, 0, 0, 1, 0, 0, 2, 5, 4, 2, 1, 1, 0, 0, 0, 5, 1, 3, 0, 1, 0, 1, 2, 0, 2, 1, 0.\n",
    "\n",
    "Con el siguiente código ejecutable, vamos a almacenar esos 50 datos en un **vector** (serie de números) con el nombre de `piezas_perdidas`. R utiliza la expresión `<-` para definir el nombre con el que almacenamos los datos, `piezas_perdidas` en nuestro ejemplo, y la función `c()` para almacenar los datos.\n",
    "\n",
    "Ejecute el siguente código en R:"
   ]
  },
  {
   "cell_type": "code",
   "execution_count": 1,
   "metadata": {},
   "outputs": [],
   "source": [
    "piezas_perdidas <- c(1, 3, 0, 3, 2, 0, 2, 0, 0, 2, 0, 1, 0, 0, 1, \n",
    "                     0, 1, 4, 0, 0, 1, 4, 0, 1, 0, 0, 1, 0, 0, 2, \n",
    "                     5, 4, 2, 1, 1, 0, 0, 0, 5, 1, 3, 0, 1, 0, 1, \n",
    "                     2, 0, 2, 1, 0)"
   ]
  },
  {
   "cell_type": "markdown",
   "metadata": {},
   "source": [
    "Vamos a comprobar los datos que tenemos ahora mismo almacenados. Con el siguiente código, podemos contar los datos:"
   ]
  },
  {
   "cell_type": "code",
   "execution_count": null,
   "metadata": {},
   "outputs": [],
   "source": [
    "# Longitud del vector\n",
    "length(piezas_perdidas)"
   ]
  },
  {
   "cell_type": "markdown",
   "metadata": {},
   "source": [
    "Es decir, tenemos 50 datos. Para ver los distintos valores almacenados, podemos usar el siguiente código:"
   ]
  },
  {
   "cell_type": "code",
   "execution_count": null,
   "metadata": {},
   "outputs": [],
   "source": [
    "# Tipo de dato almacenado\n",
    "typeof(piezas_perdidas)"
   ]
  },
  {
   "cell_type": "markdown",
   "metadata": {},
   "source": [
    "Nos dice que el tipo de datos almacenados es *double* aunque sabemos que son *números enteros* (sin decimales). En R, los números por defecto son representados como double. Podemos ver, incluso, todos los datos ejecutando el código:"
   ]
  },
  {
   "cell_type": "code",
   "execution_count": null,
   "metadata": {},
   "outputs": [],
   "source": [
    "# Listamos todos los valores almacenados en piezas_perdidas\n",
    "piezas_perdidas"
   ]
  },
  {
   "cell_type": "markdown",
   "metadata": {},
   "source": [
    "# Tablas de frecuencias\n",
    "Vamos a elaborar la tabla de frecuencias de los mismos obteniendo:\n",
    "- Frecuencia absoluta\n",
    "- Frecuencia relativa\n",
    "- Porcentaje\n",
    "- Frecuencia absoluta acumulada\n",
    "- Frecuencia relativa acumulada\n",
    "\n",
    "Estos valores se pueden obtener con R de una forma muy sencilla. Vamos a almacenar ahora los datos en forma de tabla con el nombre `tabla` y vamos a *imprimir* el resultado:"
   ]
  },
  {
   "cell_type": "code",
   "execution_count": null,
   "metadata": {},
   "outputs": [],
   "source": [
    "# Frecuencias absolutas\n",
    "tabla <- table(piezas_perdidas)\n",
    "\n",
    "# Vemos el resultado\n",
    "tabla"
   ]
  },
  {
   "cell_type": "markdown",
   "metadata": {},
   "source": [
    "Así, R ha contado el número de datos y podemos ver que hay 22 pacientes con 0 piezas perdidas, 13 con 1 pieza perdida, etc.\n",
    "Para las frecuencias relativas, podemos ejecutar:"
   ]
  },
  {
   "cell_type": "code",
   "execution_count": null,
   "metadata": {},
   "outputs": [],
   "source": [
    "# Con prop.table, obtenemos las frecuencias relativas\n",
    "prop.table(tabla)"
   ]
  },
  {
   "cell_type": "markdown",
   "metadata": {},
   "source": [
    "Así, la frecuencia relativa de pacientes con 1 pieza perdida es 0.26 (26%).\n",
    "Ahora, podemos obtener la tabla de frecuencias absolutas acumuladas:"
   ]
  },
  {
   "cell_type": "code",
   "execution_count": null,
   "metadata": {},
   "outputs": [],
   "source": [
    "# Tabla de frecuencias absolutas acumuladas\n",
    "cumsum(tabla)"
   ]
  },
  {
   "cell_type": "markdown",
   "metadata": {},
   "source": [
    "Así, hay 45 pacientes con 3 o menos piezas dentales perdidas. Finalmente, podemos representar un diagrama de barras con las frecuencias absolutas con el siguiente código:"
   ]
  },
  {
   "cell_type": "code",
   "execution_count": null,
   "metadata": {},
   "outputs": [],
   "source": [
    "# Diagrama de barras\n",
    "barplot(tabla)"
   ]
  },
  {
   "cell_type": "markdown",
   "metadata": {},
   "source": [
    "Podemos obtener el gráfico de lafrecuencia absoluta acumulada. Para ello, obtener los datos acumulados con la función `cumsum` y almacenarlos con el nombre `acumulada` para, finalmente, obtener el gráfico. "
   ]
  },
  {
   "cell_type": "code",
   "execution_count": null,
   "metadata": {},
   "outputs": [],
   "source": [
    "# Gráfico de la frecuencia absoluta acumulada\n",
    "acumulada <- cumsum(tabla)\n",
    "barplot(acumulada)"
   ]
  },
  {
   "cell_type": "code",
   "execution_count": null,
   "metadata": {},
   "outputs": [],
   "source": []
  }
 ],
 "metadata": {
  "kernelspec": {
   "display_name": "R",
   "language": "R",
   "name": "ir"
  },
  "language_info": {
   "codemirror_mode": "r",
   "file_extension": ".r",
   "mimetype": "text/x-r-source",
   "name": "R",
   "pygments_lexer": "r",
   "version": "3.6.0"
  }
 },
 "nbformat": 4,
 "nbformat_minor": 4
}
