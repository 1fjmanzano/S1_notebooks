{
 "cells": [
  {
   "cell_type": "markdown",
   "metadata": {},
   "source": [
    "# Contar y visualizar datos. Algunos gráficos\n",
    "\n",
    "Ahora vamos a trabajar con 350 datos numéricos y realizar operaciones con ellos tales como contarlos, agruparlos por intervalos y representar el histograma de frecuencias. \n",
    "\n",
    "Comenzamos cargando los 350 datos que tenemos en el archivo `350datos.csv` en la carpeta `_data`. Los archivos **csv** son un tipo de documento de almacenamiento de datos en forma de tabla. Vamos a almacenarlos en nuestro espacio de trabajo con el nombre `data` utilizando la función `read.csv`.\n",
    "\n",
    "Ejecute el siguiente código:"
   ]
  },
  {
   "cell_type": "code",
   "execution_count": null,
   "metadata": {},
   "outputs": [],
   "source": [
    "# Cargamos y almacenacenamos los datos en data\n",
    "data <- read.csv(\"_data/350datos.csv\")"
   ]
  },
  {
   "cell_type": "markdown",
   "metadata": {},
   "source": [
    "Es decir, lo que acabamos de hacer es leer la información de un archivo csv y almacenar esos datos con el nombre data. Ahora, una vez cargados los datos, podemos ver las primeras y las últimas filas con los comando `head` y `tail`:"
   ]
  },
  {
   "cell_type": "code",
   "execution_count": null,
   "metadata": {},
   "outputs": [],
   "source": [
    "# Ver las primeras y las últimas filas\n",
    "head(data)\n",
    "tail(data)"
   ]
  },
  {
   "cell_type": "markdown",
   "metadata": {},
   "source": [
    "Así, vemos que tenemos una sola columna con datos numéricos. Podemos ver la cantidad de datos con la instrucción `dim`."
   ]
  },
  {
   "cell_type": "code",
   "execution_count": null,
   "metadata": {},
   "outputs": [],
   "source": [
    "# Número de filas y columnas\n",
    "dim(data)"
   ]
  },
  {
   "cell_type": "markdown",
   "metadata": {},
   "source": [
    "Es decir, tenemos 350 filas y 1 columna. Podemos ver que la primera fila corresponde al nombre *Variable* y el resto son números. Veamos de qué tipo son con la instrucción `typeof`. En este caso, usamos *data$Variable* para indicarle al programa que queremos específicamente esa columna."
   ]
  },
  {
   "cell_type": "code",
   "execution_count": null,
   "metadata": {},
   "outputs": [],
   "source": [
    "# Tipo de datos\n",
    "typeof(data$Variable)"
   ]
  },
  {
   "cell_type": "markdown",
   "metadata": {},
   "source": [
    "El resultado que da R es 'integer', es decir, números sin decimales. Ahora, podemos obtener el valor mínimo del conjunto de 350 datos con:"
   ]
  },
  {
   "cell_type": "code",
   "execution_count": null,
   "metadata": {},
   "outputs": [],
   "source": [
    "# Valor mínimo\n",
    "min(data)"
   ]
  },
  {
   "cell_type": "markdown",
   "metadata": {},
   "source": [
    "Así, el mínimo valor es 18. El máximo valor lo obtenemos con:"
   ]
  },
  {
   "cell_type": "code",
   "execution_count": null,
   "metadata": {},
   "outputs": [],
   "source": [
    "# Valor máximo\n",
    "max(data)"
   ]
  },
  {
   "cell_type": "markdown",
   "metadata": {},
   "source": [
    "Es decir, tenemos 350 valores enteros (sin decimales) entre 18 y 89. Podemos, por ejemplo, ver el número de datos iguales a 35:"
   ]
  },
  {
   "cell_type": "code",
   "execution_count": null,
   "metadata": {},
   "outputs": [],
   "source": [
    "# Contar valores iguales a 35\n",
    "length(which(data$Variable == 35))"
   ]
  },
  {
   "cell_type": "markdown",
   "metadata": {},
   "source": [
    "También podemos ver el número de datos mayores o iguales que un número dado, por ejemplo, 15:"
   ]
  },
  {
   "cell_type": "code",
   "execution_count": null,
   "metadata": {},
   "outputs": [],
   "source": [
    "# Contar valores mayores que 15\n",
    "length(which(data$Variable > 15))"
   ]
  },
  {
   "cell_type": "markdown",
   "metadata": {},
   "source": [
    "Evidentemente obtenemos 350 ya que el mínimo era 18. \n",
    "\n",
    "**Ejercicio:** Pruebe a cambiar el código anterior para obtener el número de datos mayores que 50 (son 185), el número de datos menores que 70 (son 255) o el número de datos menores o iguales (use <=) que 60 (son 206)."
   ]
  },
  {
   "cell_type": "markdown",
   "metadata": {},
   "source": [
    "Además, podemos obtener el número de valores entre 2 dados:"
   ]
  },
  {
   "cell_type": "code",
   "execution_count": null,
   "metadata": {},
   "outputs": [],
   "source": [
    "# Número de valores mayores o iguales a 18 y menores que 20\n",
    "length(which(data$Variable >=18 & data$Variable <20))"
   ]
  },
  {
   "cell_type": "markdown",
   "metadata": {},
   "source": [
    "Es decir, con pequeñas instrucciones de código, R nos da los resultados solicitados. Podemos obtener de forma muy sencilla un resumen de los datos almacenados con la instrucción `summary`."
   ]
  },
  {
   "cell_type": "code",
   "execution_count": null,
   "metadata": {},
   "outputs": [],
   "source": [
    "# Resumen estadístico de los datos\n",
    "summary(data)"
   ]
  },
  {
   "cell_type": "markdown",
   "metadata": {},
   "source": [
    "Así, con la instrucción `summary`obtenemos (para datos numéricos) los valores mínimo y máximo, la mediana (Median), la media (Mean) y los cuartiles."
   ]
  },
  {
   "cell_type": "markdown",
   "metadata": {},
   "source": [
    "## Algunos gráficos\n",
    "\n",
    "### Diagrama de cajas y bigotes\n",
    "Podemos usar un diagrama de cajas y bigotes para visualizar de qué forma están distribuidos los datos. Recordamos que en un diagrama de este tipo, hay 2 *bigotes* que indican 1.5 veces el rango intecuartílico y una *caja* con extremos en los cuartiles 1º y 3º. La caja está dividida por una línea que corresponde a la mediana (2º cuartil, es decir, la mitad de los datos por encima y la mitad de los datos por debajo)."
   ]
  },
  {
   "cell_type": "code",
   "execution_count": null,
   "metadata": {},
   "outputs": [],
   "source": [
    "# Diagrama de cajas y bigotes\n",
    "boxplot(data)"
   ]
  },
  {
   "cell_type": "markdown",
   "metadata": {},
   "source": [
    "### Histograma\n",
    "\n",
    "Otra forma de visualizar la distribución de datos es mediante un histograma que nos agrupa en intervalos (8 en este caso) los valores de la variable:"
   ]
  },
  {
   "cell_type": "code",
   "execution_count": null,
   "metadata": {},
   "outputs": [],
   "source": [
    "# Histograma\n",
    "hist(data$Variable)"
   ]
  },
  {
   "cell_type": "markdown",
   "metadata": {},
   "source": [
    "Podemos añadir opciones para cambiar de color las barras e indicar el número de intervalos en los que queremos que nos divida la distribución además de ponerle título."
   ]
  },
  {
   "cell_type": "code",
   "execution_count": null,
   "metadata": {},
   "outputs": [],
   "source": [
    "# Histograma con barras naranjas, 5 intervalos y título\n",
    "\n",
    "hist(data$Variable, col = \"orange\", nclass = 5, main=\"Histograma\")"
   ]
  },
  {
   "cell_type": "markdown",
   "metadata": {},
   "source": [
    "**Ejercicio:** Pruebe a cambiar en el código anterior el número de intervalos (a 8, por ejemplo) y el color del gráfico (a green, por ejemplo)"
   ]
  },
  {
   "cell_type": "code",
   "execution_count": null,
   "metadata": {},
   "outputs": [],
   "source": []
  }
 ],
 "metadata": {
  "kernelspec": {
   "display_name": "R",
   "language": "R",
   "name": "ir"
  },
  "language_info": {
   "codemirror_mode": "r",
   "file_extension": ".r",
   "mimetype": "text/x-r-source",
   "name": "R",
   "pygments_lexer": "r",
   "version": "3.6.0"
  }
 },
 "nbformat": 4,
 "nbformat_minor": 4
}
