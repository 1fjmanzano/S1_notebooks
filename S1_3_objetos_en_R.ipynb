{
 "cells": [
  {
   "cell_type": "markdown",
   "metadata": {},
   "source": [
    "# Objetos en R\n",
    "La información que manipulamos en R se estructura en forma de objetos. Para trabajar con R resulta importante conocer los principales tipos de objetos y sus propiedades básicas. En general, cada tipo de objeto viene definido por una serie de atributos. Las funciones genéricas (como por ejemplo `summary` o `plot`) reconocen estos atributos y llevan a cabo distintos tipos de acciones en función del tipo de objeto. Aquí nos vamos a centrar sólo en los objetos más utilizados: \n",
    "- vectores\n",
    "- matrices\n",
    "- listas\n",
    "- data frames\n",
    "\n",
    "Es importante saber con qué tipo de objeto estamos trabajando para realizar distintas acciones sobre ellos (obtener gráficos, medidas estadísticas, etc.)."
   ]
  },
  {
   "cell_type": "markdown",
   "metadata": {},
   "source": [
    "## Vectores\n",
    "\n",
    "Un vector es la estructura de datos más sencilla en R. Un vector es una colección de uno o más datos del mismo tipo. Si recuerda, en una práctica anterior definió un vector con el número de piezas dentales perdidas de 50 pacientes."
   ]
  },
  {
   "cell_type": "code",
   "execution_count": null,
   "metadata": {},
   "outputs": [],
   "source": [
    "piezas_perdidas <- c(1, 3, 0, 3, 2, 0, 2, 0, 0, 2, 0, 1, 0, 0, 1, \n",
    "                     0, 1, 4, 0, 0, 1, 4, 0, 1, 0, 0, 1, 0, 0, 2, \n",
    "                     5, 4, 2, 1, 1, 0, 0, 0, 5, 1, 3, 0, 1, 0, 1, \n",
    "                     2, 0, 2, 1, 0)"
   ]
  },
  {
   "cell_type": "markdown",
   "metadata": {},
   "source": [
    "Así, se utiliza el comando `c()` para concatenar sucesivamente elementos, 50 números en este caso. Así, `piezas_perdidas` es un vector de longitud 50 cuyos elementos son números.\n",
    "\n",
    "De este modo, un número cualquiera (como el número 3) es, a todos los efectos, un vector de longitud 1."
   ]
  },
  {
   "cell_type": "code",
   "execution_count": null,
   "metadata": {},
   "outputs": [],
   "source": [
    "# Veamos que el número 3 es un vector\n",
    "3"
   ]
  },
  {
   "cell_type": "code",
   "execution_count": null,
   "metadata": {},
   "outputs": [],
   "source": [
    "# Preguntamos si 3 es un vector\n",
    "is.vector(3)"
   ]
  },
  {
   "cell_type": "markdown",
   "metadata": {},
   "source": [
    "Y nos dice que sí (`TRUE`), es decir, que el número 3 es un vector. \n",
    "### Creación de vectores\n",
    "\n",
    "Como hemos comentado, creamos vectores usando el comando `c()` (combinar).\n",
    "\n",
    "Usando ese comando, le damos como argumento los elementos que deseamos combinar en el vector, separados por comas."
   ]
  },
  {
   "cell_type": "code",
   "execution_count": null,
   "metadata": {},
   "outputs": [],
   "source": [
    "# Vector numérico\n",
    "c(1, 2, 3, 5, 8, 13)"
   ]
  },
  {
   "cell_type": "markdown",
   "metadata": {},
   "source": [
    "También podemos crear vectores cuyos elementos sean texto."
   ]
  },
  {
   "cell_type": "code",
   "execution_count": null,
   "metadata": {},
   "outputs": [],
   "source": [
    "# Vector de cadena de texto\n",
    "c(\"alto\", \"medio\", \"bajo\")"
   ]
  },
  {
   "cell_type": "markdown",
   "metadata": {},
   "source": [
    "Podemos encadenar dos vectores también con el comando `c()`."
   ]
  },
  {
   "cell_type": "code",
   "execution_count": null,
   "metadata": {},
   "outputs": [],
   "source": [
    "# Definimos los vectores x e y\n",
    "x <- c(2, 4, 6)\n",
    "y <- c(3, 7)\n",
    "# Los encadenamos en uno solo (llamado z)\n",
    "z <- c(x, y)\n",
    "# Vemos el vector z\n",
    "z"
   ]
  },
  {
   "cell_type": "code",
   "execution_count": null,
   "metadata": {},
   "outputs": [],
   "source": [
    "# Vemos la longitud del vector z\n",
    "length(z)"
   ]
  },
  {
   "cell_type": "markdown",
   "metadata": {},
   "source": [
    "#### Reciclaje\n",
    "\n",
    "Es muy importante para operar con vectores tener en cuenta la **regla del reciclaje**: si usamos vectores que no alcanzan la dimensión adecuada para ciertas operaciones, R automáticamente recicla el vector (repite los valores) hasta llegar a la dimensión requerida."
   ]
  },
  {
   "cell_type": "code",
   "execution_count": null,
   "metadata": {},
   "outputs": [],
   "source": [
    "# Sumamos 2 vectores de distinta longitud\n",
    "c(1, 2) + c(7, 8, 9)"
   ]
  },
  {
   "cell_type": "markdown",
   "metadata": {},
   "source": [
    "Evidentemente, hemos obtenido un aviso. Vemos que R ha sumado al número 9 (tercer valor del segundo vector) un 1 (primer valor del primer vector) ya que \"se quedó sin números para sumar\" y volvió al principio del primer vector.\n",
    "\n",
    "Como decíamos anteriormente, R lleva a cabo distintos tipos de acciones en función del tipo de objeto que emplea. El reciclaje será deseable en la medida en que nuestros datos permitan este ajuste pero podría ser peligroso y conducir a error en otros muchos casos. De ahí la importancia de conocer los atributos de los objetos que empleamos. Como podemos observar, el sistema nos advierte que las dimensiones de los vectores no son las adecuadas mediante un `Warning message`\n",
    "aunque aplicará el reciclaje y llevará a cabo la operación."
   ]
  },
  {
   "cell_type": "markdown",
   "metadata": {},
   "source": [
    "#### Valores especiales\n",
    "\n",
    "Existen una serie de expresiones que  están reservadas para valores especiales:\n",
    "- `NA`: Not Available\n",
    "- `NaN`: Not a Number\n",
    "- `Inf`: Infinity\n",
    "- `NULL`: Null\n",
    "\n",
    "En próximas prácticas veremos cómo trabajar con valores de este tipo."
   ]
  },
  {
   "cell_type": "markdown",
   "metadata": {},
   "source": [
    "## Matrices\n",
    "\n",
    "Las matrices son también vectores pero con dos atributos adicionales: número de filas y número de columnas. Sin embargo, los vectores no son matrices con una fila o con una columna. \n",
    "\n",
    "Hay que tener en cuenta que **una matriz únicamente puede contener datos de un sólo tipo**.\n",
    "\n",
    "Podemos crear matrices en R con la función `matrix()` que acepta dos argumentos\n",
    "- `nrow`: número de filas\n",
    "- `ncol`: número de columnas"
   ]
  },
  {
   "cell_type": "code",
   "execution_count": null,
   "metadata": {},
   "outputs": [],
   "source": [
    "# Creamos una secuencia de números del uno al doce\n",
    "1:12"
   ]
  },
  {
   "cell_type": "code",
   "execution_count": null,
   "metadata": {},
   "outputs": [],
   "source": [
    "# Con esos 12 valores, vamos a crear una matriz con 3 filas y 4 columnas\n",
    "matrix(1:12, nrow = 3, ncol = 4)"
   ]
  },
  {
   "cell_type": "markdown",
   "metadata": {},
   "source": [
    "Observe que R va colocando los valores por columnas."
   ]
  },
  {
   "cell_type": "code",
   "execution_count": null,
   "metadata": {},
   "outputs": [],
   "source": [
    "# Ahora, con esos 12 valores, creamos una matriz con 2 filas y 6 columnas\n",
    "matrix(1:12, nrow = 2, ncol = 6)"
   ]
  },
  {
   "cell_type": "markdown",
   "metadata": {},
   "source": [
    "### Funciones `rbind` y `cbind`\n",
    "\n",
    "Otro procedimiento para crear matrices es mediante la unión vectores con las siguientes funciones:\n",
    "\n",
    "- `cbind()`: para unir vectores, usando cada uno como una columna.\n",
    "- `rbind()`: para unir vectores, usando cada uno como una fila.\n",
    "\n",
    "Como ejemplo, vamos a crear cuatro vectores y unirlos para formar una matriz. Cada vector será una fila en esta matriz."
   ]
  },
  {
   "cell_type": "code",
   "execution_count": null,
   "metadata": {},
   "outputs": [],
   "source": [
    "# Creamos 4 vectores de longitud 4 (1:4 indica números del 1 al 4)\n",
    "vector_1 <- 1:4\n",
    "vector_2 <- 5:8\n",
    "vector_3 <- 9:12\n",
    "vector_4 <- 13:16\n",
    "\n",
    "# Usamos rbind() para crear un matriz, en la que cada vector será una fila\n",
    "matriz <- rbind(vector_1, vector_2, vector_3, vector_4)\n",
    "\n",
    "# Resultado\n",
    "matriz"
   ]
  },
  {
   "cell_type": "markdown",
   "metadata": {},
   "source": [
    "Estas funciones se pueden utilizar para añadir filas o columnas a una matriz. Imaginemos que tenemos 3 pacientes mayores de 50 años (p1, p2 y p3) a los que les hemos medido la tensión arterial en 5 visitas sucesivas."
   ]
  },
  {
   "cell_type": "code",
   "execution_count": null,
   "metadata": {},
   "outputs": [],
   "source": [
    "# Datos de la presión arterial de 3 pacientes en 5 visitas\n",
    "p1 <- c(115, 100, 107, 109, 112)\n",
    "p2 <- c(125, 122, 118, 113, 117)\n",
    "p3 <- c(82, 89, 94, 97, 103)"
   ]
  },
  {
   "cell_type": "markdown",
   "metadata": {},
   "source": [
    "Ahora, queremos disponer esos datos en forma de matriz y añadir una columna con el valor medio de los 5 valores de cada paciente."
   ]
  },
  {
   "cell_type": "code",
   "execution_count": null,
   "metadata": {},
   "outputs": [],
   "source": [
    "# Creamos la matriz con rbind (cada vector será una fila)\n",
    "matriz <- rbind(p1, p2, p3)\n",
    "\n",
    "# Creamos un vector con los valores medios (mean) de cada paciente\n",
    "medias <- c(mean(p1), mean(p2), mean(p3))\n",
    "# Añadimos una columna con los valores medios\n",
    "matriz2 <- cbind(matriz, medias)\n",
    "\n",
    "# Vemos el resultado\n",
    "matriz2"
   ]
  },
  {
   "cell_type": "markdown",
   "metadata": {},
   "source": [
    "Cuando trabajemos con miles de datos, estas funciones implementadas con una sencilla línea de código en R serán de especial utilidad para sistematizar operaciones que, de otro modo y con otras herramientas (hojas de cálculo como Excel®) resultan bastante tediosas."
   ]
  },
  {
   "cell_type": "markdown",
   "metadata": {},
   "source": [
    "#### Selección de entradas de una matriz\n",
    "\n",
    "Usando **corchetes** es posible extraer submatrices (subconjuntos de una matriz). Dentro del corchete, separadas por una coma, se indican las filas y columnas que queremos extraer (o eliminar si usamos números negativos). Si no se pone nada antes o después de la coma se extraen todas las filas o columnas, respectivamente.\n",
    "\n",
    "Volvamos al ejemplo anterior con nuestros 3 pacientes. Vamos a seleccionar los datos de la segunda visita (columna 2) y, posteriormente, calcular la media de las tensiones arteriales de los 3 pacientes en esa segunda visita."
   ]
  },
  {
   "cell_type": "code",
   "execution_count": null,
   "metadata": {},
   "outputs": [],
   "source": [
    "# Seleccionamos la segunda columna (la llamamos v2: visita 2)\n",
    "v2 <- matriz[, 2]\n",
    "v2\n",
    "# Calculamos la media de los valores de v2\n",
    "mean(v2)"
   ]
  },
  {
   "cell_type": "markdown",
   "metadata": {},
   "source": [
    "En el código, dentro del corchete, vemos una coma y un 2: la coma indica la separación fila/columna. Al no haber nada delante de la coma y un 2 después de la coma. le estamos diciendo a R que queremos la segunda columna. Por ejemplo, si queremos seleccionar la tensión del paciente 3 en la visita 4 (la llamamos p3.v4):"
   ]
  },
  {
   "cell_type": "code",
   "execution_count": null,
   "metadata": {},
   "outputs": [],
   "source": [
    "p3.v4 <- matriz[3,4]\n",
    "p3.v4"
   ]
  },
  {
   "cell_type": "markdown",
   "metadata": {},
   "source": [
    "## Listas\n",
    "\n",
    "Una lista es un **vector de objetos de tipos distintos** que, por la razón que sea, conviene agrupar en la misma estructura.\n",
    "\n",
    "Es importante comprender sus propiedades porque muchas funciones de R devuelven los resultados en forma de lista. Para crearlas se usa el comando `list`. En el siguiente ejemplo creamos una lista para el paciente_1 del ejemplo anterior (llamada lista_1) con tres elementos:\n",
    "- `nombre`: nombre del paciente. Al ser caracteres, se escriben entre comillas\n",
    "- `edad`: edad del paciente (en años)\n",
    "- `tension`: tensiones arteriales en cada visita (vector de longitud 5):"
   ]
  },
  {
   "cell_type": "code",
   "execution_count": null,
   "metadata": {},
   "outputs": [],
   "source": [
    "# Lista con datos del paciente 1\n",
    "lista_1 <- list(nombre = \"paciente_1\", \n",
    "                edad = 63, \n",
    "                tension = c(115, 100, 107, 109, 112))"
   ]
  },
  {
   "cell_type": "markdown",
   "metadata": {},
   "source": [
    "La estructura de una lista (los objetos que contiene la caja y de qué tipo son) se puede conocer con el comando `str()`."
   ]
  },
  {
   "cell_type": "code",
   "execution_count": null,
   "metadata": {},
   "outputs": [],
   "source": [
    "str(lista_1)"
   ]
  },
  {
   "cell_type": "markdown",
   "metadata": {},
   "source": [
    "Vemos que el elemento nombre es del tipo `chr`(character) mientras que los elementos edad y tensión son `num` (number)."
   ]
  },
  {
   "cell_type": "markdown",
   "metadata": {},
   "source": [
    "#### Extraer elementos de una lista\n",
    "\n",
    "Para extrer un elemento de una lista se usa el símbolo de dólar (**$**) con esta sintaxis: `nombre_lista$nombre_objeto` si los elementos de la lista tienen un nombre asignado."
   ]
  },
  {
   "cell_type": "code",
   "execution_count": null,
   "metadata": {},
   "outputs": [],
   "source": [
    "# Obtenemos el nombre\n",
    "lista_1$nombre\n",
    "# Obtenemos la edad\n",
    "lista_1$edad"
   ]
  },
  {
   "cell_type": "markdown",
   "metadata": {},
   "source": [
    "También se puede usar un doble corchete y el número de orden del objeto dentro de la lista."
   ]
  },
  {
   "cell_type": "code",
   "execution_count": null,
   "metadata": {},
   "outputs": [],
   "source": [
    "# Obtenemos el nombre (valor 1)\n",
    "lista_1[1]\n",
    "# Obtenemos la edad (valor 2)\n",
    "lista_1[2]"
   ]
  },
  {
   "cell_type": "markdown",
   "metadata": {},
   "source": [
    "Por tanto, siguiendo nuestro ejemplo, podremos extraer los valores de la tensión arterial de dos maneras:"
   ]
  },
  {
   "cell_type": "code",
   "execution_count": null,
   "metadata": {},
   "outputs": [],
   "source": [
    "# Obtenemos los valores del objeto tension de 2 formas\n",
    "lista_1$tension\n",
    "lista_1[3]"
   ]
  },
  {
   "cell_type": "markdown",
   "metadata": {},
   "source": [
    "## Data frames\n",
    "\n",
    "Los data frames son estructuras de datos de dos dimensiones (rectangulares) **que pueden contener datos de diferentes tipos**. Podemos entender a los data frames como una versión más flexible de una matriz. Mientras que en una matriz todas las celdas deben contener datos del mismo tipo, las filas de un data frame admiten datos de distintos tipos aunque sus columnas conservan la restricción de contener datos de un sólo tipo.\n",
    "\n",
    "Esta estructura de datos es la más usada para realizar análisis de datos. En las prácticas sucesivas, se les facilitarán los dataframes para trabajar.\n",
    "\n",
    "Vamos a crear un dataframe llamado `df` con los datos de tensión de nuestros 3 pacientes en sus 5 visitas. Para ello, usamos la función `data.frame`. Esta función nos pedirá un número de vectores igual al número de columnas que deseemos. Todos los vectores que proporcionemos deben tener el mismo largo.\n",
    "\n",
    "Esto es muy importante: **un data frame está compuesto por vectores**."
   ]
  },
  {
   "cell_type": "code",
   "execution_count": null,
   "metadata": {},
   "outputs": [],
   "source": [
    "# Datos\n",
    "nombre <- c(\"paciente_1\", \"paciente_2\", \"paciente_3\")\n",
    "edad <- c(63, 71, 58)\n",
    "sexo <- c(1, 0, 0) # 1: hombre, 0: mujer\n",
    "v1 <- c(115, 125, 82)\n",
    "v2 <- c(100, 122, 89)\n",
    "v3 <- c(107, 118, 94)\n",
    "v4 <- c(109, 113, 97)\n",
    "v5 <- c(112, 117, 103)\n",
    "\n",
    "# Creamos el dataframe\n",
    "df <- data.frame(nombre, edad, sexo, v1, v2, v3, v4, v5)\n",
    "\n",
    "# Vemos el resultado\n",
    "df"
   ]
  },
  {
   "cell_type": "markdown",
   "metadata": {},
   "source": [
    "De este modo, tenemos los datos estructurados de forma que es muy sencillo trabajar con ellos."
   ]
  },
  {
   "cell_type": "code",
   "execution_count": null,
   "metadata": {},
   "outputs": [],
   "source": [
    "# Dimensión del dataframe (filas y columnas)\n",
    "dim(df)"
   ]
  },
  {
   "cell_type": "markdown",
   "metadata": {},
   "source": [
    "Para obtener un resumen de la estructura del dataframe que hemos creado (`df`) ejecutamos la siguiente instrucción:"
   ]
  },
  {
   "cell_type": "code",
   "execution_count": null,
   "metadata": {},
   "outputs": [],
   "source": [
    "# Estructura de los datos\n",
    "str(df)"
   ]
  },
  {
   "cell_type": "markdown",
   "metadata": {},
   "source": [
    "Vemos que en el dataframe, la variable nombre aparece como factor en vez de como caracter. Podemos cambiarlo con la función `as.character`."
   ]
  },
  {
   "cell_type": "code",
   "execution_count": null,
   "metadata": {},
   "outputs": [],
   "source": [
    "# Cambiamos el tipo de variable\n",
    "df$nombre <- as.character(df$nombre)\n",
    "# Vemos el resultado\n",
    "str(df)"
   ]
  },
  {
   "cell_type": "markdown",
   "metadata": {},
   "source": [
    "Finalmente, vemos que la variable sexo es numérica. Generalmente, nos va a interesar considerar una variable cualitativa (como el sexo) como factor, es decir, como una etiqueta o nivel y, por ejmplo, obtener datos estadísticos o gráficas distintas en base a dicho factor. En nuestro ejemplo con `femenino` y `masculino` tendríamos dos niveles."
   ]
  },
  {
   "cell_type": "code",
   "execution_count": null,
   "metadata": {},
   "outputs": [],
   "source": [
    "# Convertimos la variable sexo en un factor, \n",
    "df$sexo <- as.factor(df$sexo)\n",
    "# Vemos el resultado\n",
    "str(df)"
   ]
  },
  {
   "cell_type": "markdown",
   "metadata": {},
   "source": [
    "## Arrays\n",
    "\n",
    "Finalmente y a título informativo, comentamos que existe otro tipo de objeto en R , los arrays que son matrices que pueden tener un número arbitrario de dimensiones. Pueden ser cubos (3 dimensiones), hipercubos (4 o más dimensiones) y otras formas. Su uso no es muy común en R, aunque a veces es deseable contar con objetos n-dimensionales para manipular datos. Como los arrays tienen la restricción de que todos sus datos deben ser del mismo tipo, no importando en cuántas dimensiones se encuentren, esto limita sus usos prácticos.\n",
    "\n",
    "En general, es preferible usar listas en lugar de arrays,"
   ]
  },
  {
   "cell_type": "code",
   "execution_count": null,
   "metadata": {},
   "outputs": [],
   "source": []
  }
 ],
 "metadata": {
  "kernelspec": {
   "display_name": "R",
   "language": "R",
   "name": "ir"
  },
  "language_info": {
   "codemirror_mode": "r",
   "file_extension": ".r",
   "mimetype": "text/x-r-source",
   "name": "R",
   "pygments_lexer": "r",
   "version": "3.6.0"
  }
 },
 "nbformat": 4,
 "nbformat_minor": 4
}
