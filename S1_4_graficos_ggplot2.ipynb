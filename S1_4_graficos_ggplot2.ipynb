{
 "cells": [
  {
   "cell_type": "markdown",
   "metadata": {},
   "source": [
    "# Gráficos en R. El paquete ggplot2\n",
    "Una gran parte de los métodos utilizados en el análisis de datos están basados en conceptos estadísticos. En esta práctica repasaremos algunos de los conceptos fundamentales de la Estadística de datos y su visualización.\n",
    "\n",
    "A lo largo de este cuaderno se alternarán explicaciones con código ejecutable. En algún caso, el código puede tardar unos segundos en ejecutarse."
   ]
  },
  {
   "cell_type": "markdown",
   "metadata": {},
   "source": [
    "## Introducción\n",
    "La Estadística se basa en datos que consisten en un conjunto de piezas de información acerca de hechos que se pretende estudiar.\n",
    "Esta información puede aparecer en forma de descriptores, cantidades, medidas y otros tipos de observaciones. Generalmente, trabajamos dichos datos en un **dataset** (conjunto de datos) que, generalmente, es una colección de observaciones. De forma intuitiva, pensamos en este conjunto de datos como una tabla en la que cada fila corresponde a un elemento, individuo o sujeto del que se observan una serie de características y en columnas en la que cada columna se refiere a una característica o **variable** observada en cada sujeto.\n",
    "\n",
    "Vamos a ver un ejemplo real (e histórico). En 1886, Francis Galton realizó un estudio sobre las relaciones entre las alturas de los progenitores y las de sus vástagos (ya adultos).\n",
    "\n",
    "Ejecute el siguiente código para cargar los datos (`galton.csv`) que recopiló y utilizó Galton para su estudio. Almacenaremos los datos con el nombre `df`. (Puede ignorar el posible aviso de error si aparece)."
   ]
  },
  {
   "cell_type": "code",
   "execution_count": null,
   "metadata": {},
   "outputs": [],
   "source": [
    "# Leemos el archivo csv y almacenamos los datos con el nombre df (DataFrame)\n",
    "df <- read.csv(\"_data/galton.csv\") "
   ]
  },
  {
   "cell_type": "markdown",
   "metadata": {},
   "source": [
    "Ahora mismo hemos almacenado los datos del archivo csv en un marco de datos (data frame) con el nombre `df`. Ejecutando el siguiente código, podemos ver las primeras filas del conjunto de datos:"
   ]
  },
  {
   "cell_type": "code",
   "execution_count": null,
   "metadata": {},
   "outputs": [],
   "source": [
    "# Primeras filas de los datos\n",
    "head(df)"
   ]
  },
  {
   "cell_type": "markdown",
   "metadata": {},
   "source": [
    "Podemos ver que tenemos 8 variables:\n",
    "\n",
    "- family\n",
    "- father\n",
    "- mother\n",
    "- midparentHeight\n",
    "- children\n",
    "- childNum\n",
    "- gender\n",
    "- childHeight \n",
    "\n",
    "Con el siguiente código, podemos ver la cantidad de datos que tenemos almacenado: "
   ]
  },
  {
   "cell_type": "code",
   "execution_count": null,
   "metadata": {},
   "outputs": [],
   "source": [
    "# Dimensión de los datos\n",
    "dim(df)"
   ]
  },
  {
   "cell_type": "markdown",
   "metadata": {},
   "source": [
    "Así, nuestro dataframe tiene 934 filas y 8 columnas."
   ]
  },
  {
   "cell_type": "code",
   "execution_count": null,
   "metadata": {},
   "outputs": [],
   "source": [
    "# Estructura de los datos\n",
    "str(df)"
   ]
  },
  {
   "cell_type": "markdown",
   "metadata": {},
   "source": [
    "### Tipos de Datos\n",
    "Vamos a observar estos datos. Hay 934 individuos (observaciones) ya que la primera de las  filas corresponde al encabezado (fila 0) y cada una recopila información acerca de un individuo por fila. Cada columna hace referencia a una variable. Vamos a respetar las unidades utilizadas por Galton, esto es, las medidas están en pulgadas (1 metro = 39,3701 pulgadas). Las características (variables) observadas son:\n",
    "\n",
    "- **family**: Un identificador para la familia a la que pertenece el hijo/a (vástago).\n",
    "- **father**: Altura del padre (en pulgadas).\n",
    "- **mother**: Altura de la madre.\n",
    "- **midparentHeight**: Media ponderada de la altura de los progenitores calculada como *(father + 1.08 x mother) &div; 2*.\n",
    "- **children**: Número total de hijos en la familia.\n",
    "- **childNum**: El número del hijo dentro de la familia al que corresponde la observación (Galton numeró a los hijos en orden decreciente de altura por lo que los hijos más altos aparecen antes que los más bajos).\n",
    "- **gender**: Género del sujeto.\n",
    "- **childHeight**: Altura del hijo.\n",
    "\n",
    "Está claro que tenemos distintos tipos de datos. Al ver la estructura de los mismos, vemos dos características que representa una *cualidad*: la familia a la que pertenece y el género. El resto son *cantidades*, es decir, números de distintos tipos. Vamos a estudiarlos con más detenimiento.\n",
    "\n",
    "### Variables Cualitativas\n",
    "Este tipo de datos categoriza los mismos. En nuestro caso la familia a la que se pertenece (`family`) que es un valor numérico y el género (`gender`), hombre o mujer (male / female) que no es un valor numérico. En ambos casos, R considera esas 2 variables como `Factor` \n",
    "##### Datos Nominales\n",
    "Al organizar los datos relativos a la altura de cada vástago, Galton asignó un identificador a cada familia (*family*) y anotó el género (*gender*). Nótese que, aunque este dato *family* es un número pero no indica una relación de orden, de mayor que o menor que, es decir, la familia 002 no es mayor que la familia 001 ni el género *male* es mayor que o menor que el género *female*.\n",
    "Es por esto que este tipo de datos de suele llamar datos *nominales*. \n",
    "\n",
    "Como hemos comentado, R los considera como datos de tipo `Factor`.\n",
    "##### Datos Ordinales\n",
    "Respecto a la variable **childNum**, no es una medida de cantidad sino una forma de identificar a cada hijo en cada familia. Además, el número de orden asignado a cada hijo tiene un sentido adicional ya que los números están ordenados (de mayor a menor altura). Podemos encontrar este tipo de variables, por ejemplo, en un curso de formación en el que se indica un nivel: \"básico\", \"intermedio\" y \"avanzado\". Este tipo de datos en el que el dato en no es una cantidad de medida pero que indica un cierto orden - una jerarquía - se conoce como *ordinal*.\n",
    "### Variables Cuantitativas\n",
    "Vamos a fijarnos en los datos que implican una medida, un número. En nuestro ejemplo son datos de tipo `ìnt` o `num`.\n",
    "##### Datos Discretos\n",
    "Las observaciones de Galton incluyen el número de hijos (**children**) en cada familia. Evidentenemte, no puede haber una familia con 2.34 hijos, es decir, la variable número de hijos toma valores aislados (0, 1, 2, ... *\"sin decimales\"*). Este tipo de variables se conocen como *discretas*. Intuitivamente, no estamos midiendo sino contando.\n",
    "##### Datos Continuos\n",
    "Sin embargo, las variables **father**, **mother**, **midparentHeight** y **childHeight** son medidas relativas a la altura de personas. En este caso son variables *continuas* (intuitivamente, *\"pueden tener decimales\"*). En este caso estamos *midiendo*, no *contando*.\n",
    "\n",
    "### Muestra y Población\n",
    "El conjunto de datos (*dataset*) de Galton tiene 934 observaciones. Está claro que no incluyó a toda la población mundial (o de Gran Bretaña) de 1886 cuando se recopilaron los datos. Así, Galton tuvo en cuenta una *muestra* de 934 individuos de una *población* mayor. Vamos a reflexionar un poco en este hecho tan evidente porque tiene repercusiones a la hora de establecer las posibles conclusiones del estudio.\n",
    "\n",
    "Cuando leemos afirmaciones como \"en EEUU, uno de cada veinte niños padece migrañas\", podemos pensar, ¿cómo han llegado a esa conclusión?\n",
    "\n",
    "Debemos tener en cuenta que durante buena parte de la historia de las Matemáticas, la Estadística se ha dedicado fundamentalmente al desarrollo de la *Estadística Descriptiva*, cuya principal tarea ha sido recopilar datos, clasificarlos, tabularlos y relacionarlos. Esta concepción tan limitada de la Estadística ha venido cambiando radicalmente a partir de los años 30 del siglo XX con el nacimiento de la estadística inductiva o *Estadística Inferencial*, con la que se buscan métodos que permitan obtener conclusiones válidas para toda la población a partir del estudio de muestras. Esta inferencia o inducción necesita de una rama tan importante y compleja como la Probabilidad para sostener los cálculos y conclusiones, lo que establece una conexión clara entre la estadística tradicional y el cálculo de probabilidades dando lugar al complejo campo de la Inferencia Estadística. \n",
    "\n",
    "Así, se intuye que los datos de Galton tienen una relación con las alturas de toda la población de Gran Bretaña de 1886. Por otro lado, para conocer características de una población, lo ideal es estudiar toda la población. Sin embargo, en la mayoría de los casos, su excesivo tamaño, el coste que supondría o la imposibilidad de acceder a todos los individuos de la población, hacen necesario el estudio de esas características en muestras extraídas de dicha población.\n",
    "Si estudiamos toda la población, el estudio se llama *censo* y los valores obtenidos son *parámetros de la población*.\n",
    "Si estudiamos una muestra, estamos realizando un *estudio estadístico* y los valores obtenidos son *medidas estadísticas*.\n",
    "\n",
    "Es evidente que, para que los resultados obtenidos a partir de un estudio estadístico se puedan aplicar de forma veraz a toda la población, la muestra extraída debe ser representativa de la población. En nuestro ejemplo, Galton podría haber elegido gente muy alta para la época por lo que las conclusiones no serían válidas. Así, el modo de elegir la muestra es esencial para la validez de los datos. Teniendo esto en cuenta, se suele decir que *la Estadística es una forma de mentir científicamente* (y en época de elecciones ni les cuento...)."
   ]
  },
  {
   "cell_type": "markdown",
   "metadata": {},
   "source": [
    "### Visualización de Datos\n",
    "Este apartado es fundamental a la hora de examinar datos y observar su distribución. Si una imagen vale más que mil palabras, un buen gráfico vale más que cualquier número de tablas de datos.\n",
    "Veamos los gráficos más comunes\n",
    "\n",
    "#### Diagrama de Barras\n",
    "Es un buen método para comparar variables cuantitativas o conteos entre variables. En nuestro ejemplo, sería interesante comparar el número de hombres y de mujeres, es decir, su *frecuencia absoluta*.\n",
    "\n",
    "Para visualizar datos, vamos a utilizar una librería de R llamada **ggplot2**. Comenzamos cargando la librería."
   ]
  },
  {
   "cell_type": "code",
   "execution_count": null,
   "metadata": {},
   "outputs": [],
   "source": [
    "# Cargamos la librería ggplot2\n",
    "# Si no la tiene instalada quite el símbolo de almohadilla # de la siguiente\n",
    "# línea y ejecute el código:\n",
    "# install.packages(ggplot2)\n",
    "\n",
    "library(ggplot2)"
   ]
  },
  {
   "cell_type": "markdown",
   "metadata": {},
   "source": [
    "Ejecute el siguiente código para crear un diagrama de barras de `df` con el número de hombres y de mujeres del estudio."
   ]
  },
  {
   "cell_type": "code",
   "execution_count": null,
   "metadata": {},
   "outputs": [],
   "source": [
    "# Realizamos el gráfico de barras diferenciando por género\n",
    "ggplot(df) + geom_bar( aes(factor(gender), fill = factor(gender))) +\n",
    "             xlab('Género de los vástagos')"
   ]
  },
  {
   "cell_type": "markdown",
   "metadata": {},
   "source": [
    "#### Código empleado\n",
    "Comentamos las instrucciones que acaba de ejecutar. Vea que las instrucciones van separadas por un signo más `+`.\n",
    "- `ggplot(df)`: indica que va a generar un gráfico con los datos de `df` usando ggplot\n",
    "- `geom_bar()`: indica que quiere hacer un diabrama de barras. Dentro de esta instrucción hay varias opciones\n",
    "- `aes()`: aes viene de aesthetic, es decir, la apariencia del gráfico. Dentro de esta orden, hay 2 opciones:\n",
    "    - `factor(gender)`: se considera la variable gender como factor\n",
    "    - `fill = factor(gender)`: cada barra de un color en función de gender\n",
    "- `xlab('Género de los vástagos')`: lab significa etiqueta. Se añade un texto en el eje horizontal (eje x)."
   ]
  },
  {
   "cell_type": "markdown",
   "metadata": {},
   "source": [
    "#### Análisis del gráfico\n",
    "Podemos ver que hay un ligero número mayor de hombres que de mujeres pero parece que esa diferencia no es significativa.\n",
    "Los diagramas de barras se suelen utilizar para comparar variables cuanlitativas y cuantitativas discretas. Por ejemplo, en el estudio de Galton el número de hijos en cada familia se podría usar para categorizar familias. Podríamos ver cuántas familias tienen un hijo y compararlas con las que tienen dos, etc.\n",
    "\n",
    "Vamos a crear un diagrama de barras con el número de familias en función del número de hijos. Para ello, debemos quitar los duplicados en las familias ya que, por ejemplo, la familia 1 (001) aparece 4 veces al tener 4 vástagos. Esta opración la vamos a realizar usando la librería `dplyr`. almacenaremos los datos sin las familias duplicadas en `temp`. Si le aparece un aviso, puede obviarlo. "
   ]
  },
  {
   "cell_type": "code",
   "execution_count": null,
   "metadata": {},
   "outputs": [],
   "source": [
    "# Primero quitamos los duplicados en la familias\n",
    "# Cargamos la librería dplyr y usamos la instrucción distinct \n",
    "# Almacenamos los datos agrupados con el nombre temp\n",
    "library(dplyr)\n",
    "temp = distinct(df, family, children)"
   ]
  },
  {
   "cell_type": "markdown",
   "metadata": {},
   "source": [
    "Ahora, vamos a usar **ggplot2** para obtener un diagrama de barras con el número de familias en función del número de hijos."
   ]
  },
  {
   "cell_type": "code",
   "execution_count": null,
   "metadata": {},
   "outputs": [],
   "source": [
    "## Realizamos el diagrama de barras del número de hijos por familia\n",
    "ggplot(temp) + geom_bar( aes(factor(children)), fill = 'blue') +\n",
    "               xlab('Número de hijos por familia')"
   ]
  },
  {
   "cell_type": "markdown",
   "metadata": {},
   "source": [
    "El código empleado es muy sililar al del gráfico anterior. Ahora hemos usado `temp` en vez de `df` como origen de los datos. La variable, considerada como factor, es `children`. Puede probar a cambiar el color de las barras.\n",
    "\n",
    "Podemos ver que el código organiza los datos de forma que las categorías del eje *X* (horizontal) están en orden creciente. Prestar atención a este tipo de detalles ayuda a leer de forma correcta el gráfico. Por ejemplo, en el estudio vemos que no hay familias con 12, 13 o 14 hijos.\n",
    "\n",
    "Así, vemos que los más común es que hay 1 hijo en cada familia seguido de 4 y 5. Además, pocas familias tienen más de 8 hijos."
   ]
  },
  {
   "cell_type": "markdown",
   "metadata": {},
   "source": [
    "#### Histogramas\n",
    "Los diagramas de barras funcionan bien al trabajar con variables cualitativas o cuantitativas discretas. Cuando se trabaja con variables cuantitativas continuas, altura por ejemplo, se utiliza un gráfico similar llamado *histograma*. En el caso de los histogramas, se agrupan los datos en intervalos (*bins*) ya que no parece tener mucho sentido una barra individual para cada altura cuando la diferencia es de media pulgada.\n",
    "Como los intervalos representan variables continuas en vez de discretas, las barras no se separan, aoarecen juntas una de otra.\n",
    "\n",
    "Aquí tiene un código de R con el paquete *ggplot2* para generar el histograma de la variable **father** (altura del padre). También puede aparecer un mensaje acerca del número de intervalos (bins) utilizados."
   ]
  },
  {
   "cell_type": "code",
   "execution_count": null,
   "metadata": {},
   "outputs": [],
   "source": [
    "# Creamos el histograma con las instrucciones ggplot(df) y geom_histogram\n",
    "# Añadimos etiquetas al gráfico con xlab y ggtitle\n",
    "\n",
    "ggplot(df) + geom_histogram( aes(father), fill = 'blue') +\n",
    "             xlab('Altura') +\n",
    "             ggtitle('Altura de los padres')"
   ]
  },
  {
   "cell_type": "markdown",
   "metadata": {},
   "source": [
    "En el código puede ver que hemos añadido un título al gráfico con la instrucción `ggtitle`.\n",
    "\n",
    "Podemos observar que las alturas más comunes son las que están más centradas. Hay unos pocos casos de padres o muy altos o muy bajos.\n",
    "\n",
    "En este caso, el número de intervalos y, consecuentemente, su amplitud se ha generado automáticamente. \n",
    "\n",
    "**Nota:** Puede haber recibido un aviso con el texto *`stat_bin()` using `bins = 30`. Pick better value with `binwidth`.*.\n",
    "\n",
    "Suele ocurrir que queramos definir el número de intervalos que usemos ya que puede ayudar a ver con más detalle la distribución de los datos.\n",
    "\n",
    "El siguiente código genera el histograma para la misma variable **father** pero la distribuye en 15 intervalos con la instrucción `bins = 15` dentro de la configuración de `geom_histogram`."
   ]
  },
  {
   "cell_type": "code",
   "execution_count": null,
   "metadata": {},
   "outputs": [],
   "source": [
    "ggplot(df) + geom_histogram( aes(father), bins = 15, fill = 'blue') +\n",
    "             xlab('Height') +\n",
    "             ggtitle('Altura de los padres')"
   ]
  },
  {
   "cell_type": "markdown",
   "metadata": {},
   "source": [
    "Podemos seguir observando que las alturas más comunes son las que están más centradas.\n",
    "\n",
    "**Ejercicio:** Pruebe a cambiar el número de intervalos (5, 8, 10, por ejemplo) en el código del histograma anterior."
   ]
  },
  {
   "cell_type": "markdown",
   "metadata": {},
   "source": [
    "Con **ggplot2** podemos ir añadiendo elementos a nuestro gráfico. En este caso, Además, vamos a añadir una línea vertical en azul con la media de las alturas de los padres con el comando `geom_vline()`."
   ]
  },
  {
   "cell_type": "code",
   "execution_count": null,
   "metadata": {},
   "outputs": [],
   "source": [
    "ggplot(df) + \n",
    "      geom_histogram( aes(father), bins = 15, color=\"black\", fill=\"white\") +\n",
    "      geom_vline(aes(xintercept=mean(father)),\n",
    "                 color=\"blue\", linetype=\"dashed\", size=1) +\n",
    "      ggtitle('Altura del padre')"
   ]
  },
  {
   "cell_type": "markdown",
   "metadata": {},
   "source": [
    "Vamos a comentar un poco el código empleado para obtener ese gráfico. En este caso, hemos cambiado la apariencia del histograma con `color=\"black\", fill=\"white\"`. Para añadir la línea vertical con la media, hemos usado la instrucción `geom_vline()` y la media se ha calculado con el comando `mean()`. La instrucción `xintercept` hace referencia al punto de corte de la recta vertical con el eje horizontal. Definimos el color de la recta (`color=\"blue\"`), que sea discontinua (`linetype=\"dashed\"`) y el grosor (`size=1`). \n",
    "\n",
    "En nuestro ejemplo con el conjunto de datos de Galton, nos puede interesar obtener en un mismo gráfico las alturas de los vástagos (hijos e hijas) separadas por sexo. Ejecute el siguiente bloque de código para ello."
   ]
  },
  {
   "cell_type": "code",
   "execution_count": null,
   "metadata": {},
   "outputs": [],
   "source": [
    "ggplot(df, aes(x=childHeight, color=gender)) +\n",
    "  geom_histogram(fill=\"white\", alpha=0.5, position=\"identity\") +\n",
    "ggtitle(\"Alturas de hijos e hijas\")"
   ]
  },
  {
   "cell_type": "markdown",
   "metadata": {},
   "source": [
    "Comentamos el codigo. Para empezar, no hemos definido el número de intervalos (bins) por lo que R nos ha dado un aviso de que ha usado 30 y que, a lo mejor, era conveniente usar otro valor.\n",
    "\n",
    "En el primer conjunto de instrucciones, `ggplot(df, aes(x=childHeight, color=gender))`, le hemos dicho a R que queremos usar ggplot con el conjunto de datos `df`. Respecto a la apariencia (`aes`), la variable que usamos es `childHeight` diferenciando el color de cada histograma por sexo (`gender`).\n",
    "\n",
    "El el siguiente conjunto de instrucciones, `geom_histogram(fill=\"white\", alpha=0.5, position=\"identity\")`, le decimos que queremos los 2 gráficos en uno, con relleno en blanco, una pequeña transparencia de los gráficos para que, al solaparse, se puedan distinguir (`alpha=0.5`) y que los gráficos estén la misma escala de ejes (`position=\"identity\"`).\n",
    "\n",
    "Finalmente, hemos añadido un título al gráfico con `ggtitle`.\n",
    "\n",
    "Al observar el gráfico vemos que, por lo general, las hijas son más bajas que los hijos.\n",
    "\n",
    "Ahora, podría resultar interesante añadir 2 líneas verticales, una roja con la media de alturas de las hijas y otra azul con la media de las alturas de los hijos. Ejecute el siguiente código para ello."
   ]
  },
  {
   "cell_type": "code",
   "execution_count": null,
   "metadata": {},
   "outputs": [],
   "source": [
    "ggplot(df, aes(x=childHeight, color=gender)) +\n",
    "        geom_histogram(fill=\"white\", alpha=0.5, position=\"identity\") +\n",
    "        geom_vline(aes(xintercept=mean(childHeight[gender==\"male\"])),\n",
    "               color=\"blue\", linetype=\"dashed\", size=1) +\n",
    "        geom_vline(aes(xintercept=mean(childHeight[gender==\"female\"])),\n",
    "               color=\"red\", linetype=\"dashed\", size=1)  +\n",
    "        ggtitle(\"Alturas de hijos e hijas\")"
   ]
  },
  {
   "cell_type": "markdown",
   "metadata": {},
   "source": [
    "En este caso, hemos obtenido la media de las alturas de los hijos con `childHeight[gender==\"male\"]`, es decir, seleccionando de la variable `childHeight` las alturas los hijos varones (`gender==\"male\"`). Recuerde que se usaban corchetes para ello. Y hemos hecho lo mismo para la media de las alturas de las hijas."
   ]
  },
  {
   "cell_type": "markdown",
   "metadata": {},
   "source": [
    "Otra opción muy interesante es representar varios histogramas dispuestos en filas y columnas. Vamos a obtener un gráfico con los 6 histogramas correspondientes a la distribución de alturas de los progenitores y los vástagos separados por sexo, es decir, los histogramas de alturas para hombres y mujeres (tanto progenitores como vástagos).\n",
    "\n",
    "En este caso, no vamos a utilizar **ggplot2** sino el comando `hist` de R que genera histogramas. Generamos el primero correspondiente a la distribución de alturas de los padres (hombres) y, posteriormente, todos los demás. Añadiremos la recta vertical con la media de cada distribución."
   ]
  },
  {
   "cell_type": "code",
   "execution_count": null,
   "metadata": {},
   "outputs": [],
   "source": [
    "# Histograma de alturas de los padres\n",
    "hist(df$father, main = \"Altura del padre\", breaks = 30)\n",
    "abline(v=mean(df$father), col=2, lwd=2)"
   ]
  },
  {
   "cell_type": "markdown",
   "metadata": {},
   "source": [
    "Como puede comprobar, la sintaxis del código respecto a **ggplot2** varía un poco aunque, en el fondo, le estamos pidiendo a R lo mismo.\n",
    "\n",
    "Como hemos comentado, vamos a obtener 6 histogramas y los vamos a representar en un sólo gráfico (3 filas y 2 columnas) con la instrucción `par(mfrow=c(3,2))`) para una mejor visualización de los mismos. Preste atención al código y a los comentarios del mismo"
   ]
  },
  {
   "cell_type": "code",
   "execution_count": null,
   "metadata": {},
   "outputs": [],
   "source": [
    "# Gráficos en 3 filas y 2 columnas\n",
    "par(mfrow=c(2,3))\n",
    "\n",
    "# Histogramas para género masculino (3 histogramas)\n",
    "\n",
    "# Histograma de alturas de los padres\n",
    "hist(df$father, main = \"Altura de los padres\", breaks = 30)\n",
    "abline(v=mean(df$father), col=2, lwd=2)\n",
    "\n",
    "# Histograma de alturas de los hijos\n",
    "hist(df$childHeight[df$gender==\"male\"], main = \"Altura de los hijos\", breaks = 30)\n",
    "abline(v=mean(df$childHeight[df$gender==\"male\"]), col=2, lwd=2)\n",
    "\n",
    "# Histograma de alturas de padres e hijos\n",
    "hist(c(df$childHeight[df$gender==\"male\"],df$father), main = \"Padres e Hijos\", breaks = 30)\n",
    "abline(v=mean(c(df$childHeight[df$gender==\"male\"],df$father)), col=2, lwd=2)\n",
    "\n",
    "# Histogramas para género femenino (otros 3 histogramas)\n",
    "\n",
    "# Histograma de alturas de las madres\n",
    "hist(df$mother, main = \"Altura de las madres\", breaks = 30)\n",
    "abline(v=mean(df$mother), col=2, lwd=2)\n",
    "\n",
    "# Histograma de alturas de las hijas\n",
    "hist(df$childHeight[df$gender==\"female\"], main = \"Altura de las hijas\", breaks = 30)\n",
    "abline(v=mean(df$childHeight[df$gender==\"female\"]), col=2,lwd=2)\n",
    "\n",
    "# Histograma de alturas de madres e hijas\n",
    "hist(c(df$childHeight[df$gender==\"female\"],df$mother), main = \"Hijas y Madres\", breaks = 30)\n",
    "abline(v=mean(c(df$childHeight[df$gender==\"female\"],df$mother)), col=2, lwd=2)"
   ]
  },
  {
   "cell_type": "markdown",
   "metadata": {},
   "source": [
    "#### Diagrama de sectores\n",
    "Los diagramas de sectores son otro tipo de gráfico para comparar relativamente categorías. La ventaja sobre el diagrama de barras es que muestran de manera intuitiva la proporción (porcentaje) de cada categoría respecto del total. Sin embargo no son muy útiles cuando el número de categorías es muy alto o hay mucha diferencia de frecuencia entre categorías.\n",
    "\n",
    "El siguiente código genera un diagrama de sectores de la variable género:"
   ]
  },
  {
   "cell_type": "code",
   "execution_count": null,
   "metadata": {},
   "outputs": [],
   "source": [
    "ggplot(df, aes(x = \"\", fill = factor(gender))) + \n",
    "             geom_bar(width = 1) +\n",
    "             coord_polar(theta = 'y') +\n",
    "             ggtitle('Proporción de hombres y mujeres')"
   ]
  },
  {
   "cell_type": "markdown",
   "metadata": {},
   "source": [
    "Si ha prestado atención al código, verá que es similar a los usados anteriormente con alguna diferencia. Para empezar, la instrucción`x = \"\"`: especifica al programa que las barras van apiladas. Y usted se podría preguntar, ¿cómo que barras si quiero un diagrama de sectores? Es más, la instrucción `geom_bar` la hemos usado para generar un diagrama de barras. Ahora es cuendo viene \"el truco\". **ggplot2** convierte un diagrama de barras en uno de sectores con la instrucción `coord_polar(theta = 'y') ` que indica que use coordenadas circulares (polares) con un ángulo (theta) respecto a la variable y (`gender`) que hemos definido en el relleno de color (`fill = factor(gender)`).\n",
    "\n",
    "Fíjese que el gráfico incluye una leyenda para dejar claro a qué categoría corresponde cada sector. Así, vemos que el número de varones en el estudio supera ligeramente el 50%."
   ]
  },
  {
   "cell_type": "markdown",
   "metadata": {},
   "source": [
    "#### Nubes de Puntos\n",
    "Usualmente, nos va a interesar comparar valores cuantitativos. Esto es especialmente útil en situaciones con datos científicos que hay que estudiar antes de generar algoritmos de Machine Learning o AI ya que nos va a permitir adelantar relaciones aparentes entre variables. Además, las nubes de puntos nos van a ayudar a localizar datos extremos, es decir, datos que se salen significativamente de los valores medios de las variables.\n",
    "\n",
    "El siguiente código crea una nube de puntos relacionando las variables **midparentHeight** (altura media de los padres) en el eje *X* y **childHeight** (altura de los hijos) en el eje *Y* (puede tardar un poco ya que tiene que representar 933 puntos). El argumento **alpha = 0.2** hace que los puntos se muestren con un 20% de opacidad. Usando una transparencia alta hace que se distingan mejor las superposiciones de varios puntos. "
   ]
  },
  {
   "cell_type": "code",
   "execution_count": null,
   "metadata": {},
   "outputs": [],
   "source": [
    "# Nube de puntos de las variables midparentHeight y childHeight\n",
    "ggplot(df, aes(x = midparentHeight, y = childHeight)) + \n",
    "      geom_point(alpha = 0.2, color = 'blue') +\n",
    "      ylab('Altura de los vástagos') + xlab('Altura media de los padres') +\n",
    "      ggtitle('Altura de los vástagos vs. \\n Altura media de los padres')"
   ]
  },
  {
   "cell_type": "markdown",
   "metadata": {},
   "source": [
    "**Ejercicio:** En el código anterior, pruebe a cambiar el valor de `alpha`a 0.3 o 0.4 y vea la diferencia."
   ]
  },
  {
   "cell_type": "markdown",
   "metadata": {},
   "source": [
    "La nube de puntos la hemos obtenido con la instrucción `geom_point`. Hemos añadido etiquetas el eje horzontal, al vertical y un título al gráfico.\n",
    "\n",
    "En la nube de puntos, cada uno de ellos indica dos valores, la altura media de los padres y la altura de cada vástago (hijo o hija).\n",
    "Vemos que la mayoría de los puntos están distribuidos alrededor del centro de la nube lo que indica que la mayoría de los padres e hijos *\"suelen tener\"* una altura que está centrada en un rango alrededor de las alturas observadas.\n",
    "Abajo a la izquierda, hay un pequeño grupo (*cluster*) de puntos que muestran algunos padres de menor altura que tienen hijos más bajos. Arriba a la derecha tenemos el caso contrario, padres altos con hijos altos. Sin embargo, las esquinas superior izquierda e inferior derecha están vacías, esto es, no hay casos de padres muy altos con hijos muy bajos ni viceversa.\n",
    "\n",
    "También podemos representar la nube de puntos distinguiendo por género. En este caso, no hemos añadido títulos como en el ejemplo anterior."
   ]
  },
  {
   "cell_type": "code",
   "execution_count": null,
   "metadata": {},
   "outputs": [],
   "source": [
    "# Nube de puntos por género\n",
    "\n",
    "ggplot(data=df,aes(x=midparentHeight,y=childHeight,color=gender)) +\n",
    "  geom_point()"
   ]
  },
  {
   "cell_type": "markdown",
   "metadata": {},
   "source": [
    "Vemos 2 grupos (clústeres) diferenciadas por género. Recordamos que la altura media de los padres se calculó de forma ponderada con un factor 1.08:\n",
    "\n",
    "\\begin{equation} midparentHeight = \\frac{father + 1.08 \\cdot mother}{2} \\end{equation}\n",
    "\n",
    "El valor 1.08 se puede obtener dividiendo la media de las alturas de los padres entre la media de las aluturas de las madres."
   ]
  },
  {
   "cell_type": "code",
   "execution_count": null,
   "metadata": {},
   "outputs": [],
   "source": [
    "# media de las alturas de los padres entre media de las aluturas de las madres\n",
    "mean(df$father)/mean(df$mother)"
   ]
  },
  {
   "cell_type": "markdown",
   "metadata": {},
   "source": [
    "También lo podemos obtener al dividir la media de las alturas de los hijos entre la media de las alturas de las hijas."
   ]
  },
  {
   "cell_type": "code",
   "execution_count": null,
   "metadata": {},
   "outputs": [],
   "source": [
    "# media de las alturas de los hijos entre media de las alturas de las hijas\n",
    "mean(df$childHeight[df$gender == \"male\"])/mean(df$childHeight[df$gender == \"female\"])"
   ]
  },
  {
   "cell_type": "markdown",
   "metadata": {},
   "source": [
    "También obtenemos ese valor 1.08 al dividir la media de los hombres (padres e hijos) entre la media de las mujeres (madres e hijas)."
   ]
  },
  {
   "cell_type": "code",
   "execution_count": null,
   "metadata": {},
   "outputs": [],
   "source": [
    "# media hombres / media mujeres\n",
    "mean(c(df$father, df$childHeight[df$gender == \"male\"]))/\n",
    "  mean(c(df$mother, df$childHeight[df$gender == \"female\"]))"
   ]
  },
  {
   "cell_type": "markdown",
   "metadata": {},
   "source": [
    "De este modo, si representamos la nube de puntos teniendo en cuenta este coeficiente 1.08 para la altura de las hijas (childHeight, gender==\"female\") ya no vemos la diferencia que aparecía anteriormente."
   ]
  },
  {
   "cell_type": "code",
   "execution_count": null,
   "metadata": {},
   "outputs": [],
   "source": [
    "# Nube de puntos \n",
    "df$childHeight <- with(df,ifelse(gender==\"female\",1.08,1)*childHeight)\n",
    "ggplot(df,aes(x=midparentHeight,y=childHeight,color=gender)) + geom_point()"
   ]
  },
  {
   "cell_type": "markdown",
   "metadata": {},
   "source": [
    "En este caso, vemos una instrucción `ifelse()`. En esa línea de código, hemos definido de nuevo la variable `childHeight` de `df` de forma que, si el género es femenino (`gender==\"female\"`) multiplique la altura por 1.08 (`*childHeight`) y, si no (si es varón), multiplique la altura por 1 (que la deja como está). La siguiente línea de código representa la nube de puntos con esa corrección."
   ]
  },
  {
   "cell_type": "markdown",
   "metadata": {},
   "source": [
    "#### Gráfico de Líneas\n",
    "Para terminar, comentamos los gráficos de líneas que resultan muy útiles para comprobar cambios de valores a lo largo de una serie, generalmente (pero no siempre) temporal. Los datos de Galton no incluyen variables de este tipo así que vamos a utilizar otro ejemplo, el número de fallecidos en accidente de tráfico en España desde el año 1993. Estos datos se han obtenido de la web http://www.dgt.es/es/seguridad-vial/estadisticas-e-indicadores/accidentes-30dias/tablas-estadisticas/"
   ]
  },
  {
   "cell_type": "code",
   "execution_count": null,
   "metadata": {},
   "outputs": [],
   "source": [
    "# Cargamos los datos y los almacenamos con el nombre def\n",
    "def <- read.csv(\"_data/fallecidos_trafico.csv\")\n",
    "# Vemos las primeras filas\n",
    "head(def)\n",
    "# Representamos el gráfico. Que sea de líneas se obtiene con type=\"l\"\n",
    "plot(def, type=\"l\", xlab = 'Años', ylab = 'fallecidos',\n",
    "     main = 'Fallecidos en accidente de tráfico')"
   ]
  },
  {
   "cell_type": "markdown",
   "metadata": {},
   "source": [
    "Hemos representado el gráfico de líneas más básico. Con la librería `ggplot2` se puede obtener el mismo gráfico con otras opciones:"
   ]
  },
  {
   "cell_type": "code",
   "execution_count": null,
   "metadata": {},
   "outputs": [],
   "source": [
    "library(ggplot2)\n",
    "# Línea básica con puntos\n",
    "ggplot(data=def, aes(x=Anio, y=Fallecidos, group=1)) +\n",
    "  geom_line()+\n",
    "  geom_point()\n",
    "# Otro tipo de línea\n",
    "ggplot(data=def, aes(x=Anio, y=Fallecidos, group=1)) +\n",
    "  geom_line(linetype = \"dashed\")+\n",
    "  geom_point()\n",
    "# Cambio de color\n",
    "ggplot(data=def, aes(x=Anio, y=Fallecidos, group=1)) +\n",
    "  geom_line(color=\"red\")+\n",
    "  geom_point()\n",
    "# Línea quebrada\n",
    "ggplot(data=def, aes(x=Anio, y=Fallecidos, group=1)) +\n",
    "  geom_step()+\n",
    "  geom_point()"
   ]
  },
  {
   "cell_type": "markdown",
   "metadata": {},
   "source": [
    "Con esta práctica heos pretendido mostrarles algunas de las posibildades gráficas del paquete **ggplot2**. Es sólo un comienzo. A lo largo de prácticas posteriores, volveremos a utilizarlo para obtener gráficos que nos hagan ver propiedades de distintos conjuntos de datos."
   ]
  },
  {
   "cell_type": "code",
   "execution_count": null,
   "metadata": {},
   "outputs": [],
   "source": []
  }
 ],
 "metadata": {
  "kernelspec": {
   "display_name": "R",
   "language": "R",
   "name": "ir"
  },
  "language_info": {
   "codemirror_mode": "r",
   "file_extension": ".r",
   "mimetype": "text/x-r-source",
   "name": "R",
   "pygments_lexer": "r",
   "version": "3.6.0"
  }
 },
 "nbformat": 4,
 "nbformat_minor": 4
}
